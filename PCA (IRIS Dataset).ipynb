{
 "cells": [
  {
   "cell_type": "code",
   "execution_count": 1,
   "metadata": {},
   "outputs": [],
   "source": [
    "#Importing the Libraries\n",
    "%matplotlib inline\n",
    "import matplotlib.pyplot as plt\n",
    "import pandas as pd\n",
    "import numpy as np"
   ]
  },
  {
   "cell_type": "code",
   "execution_count": 2,
   "metadata": {},
   "outputs": [],
   "source": [
    "#Importing the dataset\n",
    "from sklearn.datasets import load_iris\n",
    "data= load_iris()"
   ]
  },
  {
   "cell_type": "code",
   "execution_count": 3,
   "metadata": {},
   "outputs": [
    {
     "data": {
      "text/plain": [
       "dict_keys(['data', 'target', 'target_names', 'DESCR', 'feature_names'])"
      ]
     },
     "execution_count": 3,
     "metadata": {},
     "output_type": "execute_result"
    }
   ],
   "source": [
    "#Describing the dataset\n",
    "data.keys()"
   ]
  },
  {
   "cell_type": "code",
   "execution_count": 4,
   "metadata": {},
   "outputs": [
    {
     "data": {
      "text/plain": [
       "array([0, 0, 0, 0, 0, 0, 0, 0, 0, 0, 0, 0, 0, 0, 0, 0, 0, 0, 0, 0, 0, 0,\n",
       "       0, 0, 0, 0, 0, 0, 0, 0, 0, 0, 0, 0, 0, 0, 0, 0, 0, 0, 0, 0, 0, 0,\n",
       "       0, 0, 0, 0, 0, 0, 1, 1, 1, 1, 1, 1, 1, 1, 1, 1, 1, 1, 1, 1, 1, 1,\n",
       "       1, 1, 1, 1, 1, 1, 1, 1, 1, 1, 1, 1, 1, 1, 1, 1, 1, 1, 1, 1, 1, 1,\n",
       "       1, 1, 1, 1, 1, 1, 1, 1, 1, 1, 1, 1, 2, 2, 2, 2, 2, 2, 2, 2, 2, 2,\n",
       "       2, 2, 2, 2, 2, 2, 2, 2, 2, 2, 2, 2, 2, 2, 2, 2, 2, 2, 2, 2, 2, 2,\n",
       "       2, 2, 2, 2, 2, 2, 2, 2, 2, 2, 2, 2, 2, 2, 2, 2, 2, 2])"
      ]
     },
     "execution_count": 4,
     "metadata": {},
     "output_type": "execute_result"
    }
   ],
   "source": [
    "#Labels in dataset\n",
    "data.target"
   ]
  },
  {
   "cell_type": "code",
   "execution_count": 5,
   "metadata": {},
   "outputs": [
    {
     "data": {
      "text/plain": [
       "['sepal length (cm)',\n",
       " 'sepal width (cm)',\n",
       " 'petal length (cm)',\n",
       " 'petal width (cm)']"
      ]
     },
     "execution_count": 5,
     "metadata": {},
     "output_type": "execute_result"
    }
   ],
   "source": [
    "#Features in dataset\n",
    "data.feature_names"
   ]
  },
  {
   "cell_type": "code",
   "execution_count": 6,
   "metadata": {},
   "outputs": [
    {
     "data": {
      "text/plain": [
       "array(['setosa', 'versicolor', 'virginica'], dtype='<U10')"
      ]
     },
     "execution_count": 6,
     "metadata": {},
     "output_type": "execute_result"
    }
   ],
   "source": [
    "#3 species of iris flower\n",
    "data.target_names"
   ]
  },
  {
   "cell_type": "code",
   "execution_count": 7,
   "metadata": {},
   "outputs": [],
   "source": [
    "#Splitting dataset into features and labels\n",
    "features= data.data\n"
   ]
  },
  {
   "cell_type": "code",
   "execution_count": 25,
   "metadata": {},
   "outputs": [
    {
     "name": "stdout",
     "output_type": "stream",
     "text": [
      "[[5.1 3.5 1.4 0.2]\n",
      " [4.9 3.  1.4 0.2]\n",
      " [4.7 3.2 1.3 0.2]\n",
      " [4.6 3.1 1.5 0.2]\n",
      " [5.  3.6 1.4 0.2]\n",
      " [5.4 3.9 1.7 0.4]\n",
      " [4.6 3.4 1.4 0.3]\n",
      " [5.  3.4 1.5 0.2]\n",
      " [4.4 2.9 1.4 0.2]\n",
      " [4.9 3.1 1.5 0.1]\n",
      " [5.4 3.7 1.5 0.2]\n",
      " [4.8 3.4 1.6 0.2]\n",
      " [4.8 3.  1.4 0.1]\n",
      " [4.3 3.  1.1 0.1]\n",
      " [5.8 4.  1.2 0.2]\n",
      " [5.7 4.4 1.5 0.4]\n",
      " [5.4 3.9 1.3 0.4]\n",
      " [5.1 3.5 1.4 0.3]\n",
      " [5.7 3.8 1.7 0.3]\n",
      " [5.1 3.8 1.5 0.3]\n",
      " [5.4 3.4 1.7 0.2]\n",
      " [5.1 3.7 1.5 0.4]\n",
      " [4.6 3.6 1.  0.2]\n",
      " [5.1 3.3 1.7 0.5]\n",
      " [4.8 3.4 1.9 0.2]\n",
      " [5.  3.  1.6 0.2]\n",
      " [5.  3.4 1.6 0.4]\n",
      " [5.2 3.5 1.5 0.2]\n",
      " [5.2 3.4 1.4 0.2]\n",
      " [4.7 3.2 1.6 0.2]\n",
      " [4.8 3.1 1.6 0.2]\n",
      " [5.4 3.4 1.5 0.4]\n",
      " [5.2 4.1 1.5 0.1]\n",
      " [5.5 4.2 1.4 0.2]\n",
      " [4.9 3.1 1.5 0.1]\n",
      " [5.  3.2 1.2 0.2]\n",
      " [5.5 3.5 1.3 0.2]\n",
      " [4.9 3.1 1.5 0.1]\n",
      " [4.4 3.  1.3 0.2]\n",
      " [5.1 3.4 1.5 0.2]\n",
      " [5.  3.5 1.3 0.3]\n",
      " [4.5 2.3 1.3 0.3]\n",
      " [4.4 3.2 1.3 0.2]\n",
      " [5.  3.5 1.6 0.6]\n",
      " [5.1 3.8 1.9 0.4]\n",
      " [4.8 3.  1.4 0.3]\n",
      " [5.1 3.8 1.6 0.2]\n",
      " [4.6 3.2 1.4 0.2]\n",
      " [5.3 3.7 1.5 0.2]\n",
      " [5.  3.3 1.4 0.2]\n",
      " [7.  3.2 4.7 1.4]\n",
      " [6.4 3.2 4.5 1.5]\n",
      " [6.9 3.1 4.9 1.5]\n",
      " [5.5 2.3 4.  1.3]\n",
      " [6.5 2.8 4.6 1.5]\n",
      " [5.7 2.8 4.5 1.3]\n",
      " [6.3 3.3 4.7 1.6]\n",
      " [4.9 2.4 3.3 1. ]\n",
      " [6.6 2.9 4.6 1.3]\n",
      " [5.2 2.7 3.9 1.4]\n",
      " [5.  2.  3.5 1. ]\n",
      " [5.9 3.  4.2 1.5]\n",
      " [6.  2.2 4.  1. ]\n",
      " [6.1 2.9 4.7 1.4]\n",
      " [5.6 2.9 3.6 1.3]\n",
      " [6.7 3.1 4.4 1.4]\n",
      " [5.6 3.  4.5 1.5]\n",
      " [5.8 2.7 4.1 1. ]\n",
      " [6.2 2.2 4.5 1.5]\n",
      " [5.6 2.5 3.9 1.1]\n",
      " [5.9 3.2 4.8 1.8]\n",
      " [6.1 2.8 4.  1.3]\n",
      " [6.3 2.5 4.9 1.5]\n",
      " [6.1 2.8 4.7 1.2]\n",
      " [6.4 2.9 4.3 1.3]\n",
      " [6.6 3.  4.4 1.4]\n",
      " [6.8 2.8 4.8 1.4]\n",
      " [6.7 3.  5.  1.7]\n",
      " [6.  2.9 4.5 1.5]\n",
      " [5.7 2.6 3.5 1. ]\n",
      " [5.5 2.4 3.8 1.1]\n",
      " [5.5 2.4 3.7 1. ]\n",
      " [5.8 2.7 3.9 1.2]\n",
      " [6.  2.7 5.1 1.6]\n",
      " [5.4 3.  4.5 1.5]\n",
      " [6.  3.4 4.5 1.6]\n",
      " [6.7 3.1 4.7 1.5]\n",
      " [6.3 2.3 4.4 1.3]\n",
      " [5.6 3.  4.1 1.3]\n",
      " [5.5 2.5 4.  1.3]\n",
      " [5.5 2.6 4.4 1.2]\n",
      " [6.1 3.  4.6 1.4]\n",
      " [5.8 2.6 4.  1.2]\n",
      " [5.  2.3 3.3 1. ]\n",
      " [5.6 2.7 4.2 1.3]\n",
      " [5.7 3.  4.2 1.2]\n",
      " [5.7 2.9 4.2 1.3]\n",
      " [6.2 2.9 4.3 1.3]\n",
      " [5.1 2.5 3.  1.1]\n",
      " [5.7 2.8 4.1 1.3]\n",
      " [6.3 3.3 6.  2.5]\n",
      " [5.8 2.7 5.1 1.9]\n",
      " [7.1 3.  5.9 2.1]\n",
      " [6.3 2.9 5.6 1.8]\n",
      " [6.5 3.  5.8 2.2]\n",
      " [7.6 3.  6.6 2.1]\n",
      " [4.9 2.5 4.5 1.7]\n",
      " [7.3 2.9 6.3 1.8]\n",
      " [6.7 2.5 5.8 1.8]\n",
      " [7.2 3.6 6.1 2.5]\n",
      " [6.5 3.2 5.1 2. ]\n",
      " [6.4 2.7 5.3 1.9]\n",
      " [6.8 3.  5.5 2.1]\n",
      " [5.7 2.5 5.  2. ]\n",
      " [5.8 2.8 5.1 2.4]\n",
      " [6.4 3.2 5.3 2.3]\n",
      " [6.5 3.  5.5 1.8]\n",
      " [7.7 3.8 6.7 2.2]\n",
      " [7.7 2.6 6.9 2.3]\n",
      " [6.  2.2 5.  1.5]\n",
      " [6.9 3.2 5.7 2.3]\n",
      " [5.6 2.8 4.9 2. ]\n",
      " [7.7 2.8 6.7 2. ]\n",
      " [6.3 2.7 4.9 1.8]\n",
      " [6.7 3.3 5.7 2.1]\n",
      " [7.2 3.2 6.  1.8]\n",
      " [6.2 2.8 4.8 1.8]\n",
      " [6.1 3.  4.9 1.8]\n",
      " [6.4 2.8 5.6 2.1]\n",
      " [7.2 3.  5.8 1.6]\n",
      " [7.4 2.8 6.1 1.9]\n",
      " [7.9 3.8 6.4 2. ]\n",
      " [6.4 2.8 5.6 2.2]\n",
      " [6.3 2.8 5.1 1.5]\n",
      " [6.1 2.6 5.6 1.4]\n",
      " [7.7 3.  6.1 2.3]\n",
      " [6.3 3.4 5.6 2.4]\n",
      " [6.4 3.1 5.5 1.8]\n",
      " [6.  3.  4.8 1.8]\n",
      " [6.9 3.1 5.4 2.1]\n",
      " [6.7 3.1 5.6 2.4]\n",
      " [6.9 3.1 5.1 2.3]\n",
      " [5.8 2.7 5.1 1.9]\n",
      " [6.8 3.2 5.9 2.3]\n",
      " [6.7 3.3 5.7 2.5]\n",
      " [6.7 3.  5.2 2.3]\n",
      " [6.3 2.5 5.  1.9]\n",
      " [6.5 3.  5.2 2. ]\n",
      " [6.2 3.4 5.4 2.3]\n",
      " [5.9 3.  5.1 1.8]]\n"
     ]
    }
   ],
   "source": [
    "#Total number of Dimensions = 4\n",
    "print(features)"
   ]
  },
  {
   "cell_type": "code",
   "execution_count": 8,
   "metadata": {},
   "outputs": [],
   "source": [
    "labels = data.target"
   ]
  },
  {
   "cell_type": "code",
   "execution_count": 15,
   "metadata": {},
   "outputs": [],
   "source": [
    "#Splitting the dataset into the training set and test set\n",
    "from sklearn.model_selection import train_test_split\n",
    "features_train, features_test, labels_train, labels_test = train_test_split(features, labels, random_state = 0)"
   ]
  },
  {
   "cell_type": "code",
   "execution_count": 16,
   "metadata": {},
   "outputs": [],
   "source": [
    "#Feature scaling the features\n",
    "from sklearn.preprocessing import StandardScaler\n",
    "sc = StandardScaler()\n",
    "\n",
    "# Standardizing the features\n",
    "features_train= sc.fit_transform(features_train)\n",
    "\n",
    "# features = ['sepal length', 'sepal width', 'petal length', 'petal width']\n"
   ]
  },
  {
   "cell_type": "code",
   "execution_count": 17,
   "metadata": {},
   "outputs": [],
   "source": [
    "#Applying Principal Component Analysis\n",
    "from sklearn.decomposition import PCA\n",
    "pca = PCA(n_components = 2)\n",
    "#Traiining the model\n",
    "features_train = pca.fit_transform(features)\n",
    "explained_varice = pca.explained_variance_ratio_"
   ]
  },
  {
   "cell_type": "code",
   "execution_count": 18,
   "metadata": {},
   "outputs": [
    {
     "name": "stdout",
     "output_type": "stream",
     "text": [
      "[[-2.68420713  0.32660731]\n",
      " [-2.71539062 -0.16955685]\n",
      " [-2.88981954 -0.13734561]\n",
      " [-2.7464372  -0.31112432]\n",
      " [-2.72859298  0.33392456]\n",
      " [-2.27989736  0.74778271]\n",
      " [-2.82089068 -0.08210451]\n",
      " [-2.62648199  0.17040535]\n",
      " [-2.88795857 -0.57079803]\n",
      " [-2.67384469 -0.1066917 ]\n",
      " [-2.50652679  0.65193501]\n",
      " [-2.61314272  0.02152063]\n",
      " [-2.78743398 -0.22774019]\n",
      " [-3.22520045 -0.50327991]\n",
      " [-2.64354322  1.1861949 ]\n",
      " [-2.38386932  1.34475434]\n",
      " [-2.6225262   0.81808967]\n",
      " [-2.64832273  0.31913667]\n",
      " [-2.19907796  0.87924409]\n",
      " [-2.58734619  0.52047364]\n",
      " [-2.3105317   0.39786782]\n",
      " [-2.54323491  0.44003175]\n",
      " [-3.21585769  0.14161557]\n",
      " [-2.30312854  0.10552268]\n",
      " [-2.35617109 -0.03120959]\n",
      " [-2.50791723 -0.13905634]\n",
      " [-2.469056    0.13788731]\n",
      " [-2.56239095  0.37468456]\n",
      " [-2.63982127  0.31929007]\n",
      " [-2.63284791 -0.19007583]\n",
      " [-2.58846205 -0.19739308]\n",
      " [-2.41007734  0.41808001]\n",
      " [-2.64763667  0.81998263]\n",
      " [-2.59715948  1.10002193]\n",
      " [-2.67384469 -0.1066917 ]\n",
      " [-2.86699985  0.0771931 ]\n",
      " [-2.62522846  0.60680001]\n",
      " [-2.67384469 -0.1066917 ]\n",
      " [-2.98184266 -0.48025005]\n",
      " [-2.59032303  0.23605934]\n",
      " [-2.77013891  0.27105942]\n",
      " [-2.85221108 -0.93286537]\n",
      " [-2.99829644 -0.33430757]\n",
      " [-2.4055141   0.19591726]\n",
      " [-2.20883295  0.44269603]\n",
      " [-2.71566519 -0.24268148]\n",
      " [-2.53757337  0.51036755]\n",
      " [-2.8403213  -0.22057634]\n",
      " [-2.54268576  0.58628103]\n",
      " [-2.70391231  0.11501085]\n",
      " [ 1.28479459  0.68543919]\n",
      " [ 0.93241075  0.31919809]\n",
      " [ 1.46406132  0.50418983]\n",
      " [ 0.18096721 -0.82560394]\n",
      " [ 1.08713449  0.07539039]\n",
      " [ 0.64043675 -0.41732348]\n",
      " [ 1.09522371  0.28389121]\n",
      " [-0.75146714 -1.00110751]\n",
      " [ 1.04329778  0.22895691]\n",
      " [-0.01019007 -0.72057487]\n",
      " [-0.5110862  -1.26249195]\n",
      " [ 0.51109806 -0.10228411]\n",
      " [ 0.26233576 -0.5478933 ]\n",
      " [ 0.98404455 -0.12436042]\n",
      " [-0.174864   -0.25181557]\n",
      " [ 0.92757294  0.46823621]\n",
      " [ 0.65959279 -0.35197629]\n",
      " [ 0.23454059 -0.33192183]\n",
      " [ 0.94236171 -0.54182226]\n",
      " [ 0.0432464  -0.58148945]\n",
      " [ 1.11624072 -0.08421401]\n",
      " [ 0.35678657 -0.06682383]\n",
      " [ 1.29646885 -0.32756152]\n",
      " [ 0.92050265 -0.18239036]\n",
      " [ 0.71400821  0.15037915]\n",
      " [ 0.89964086  0.32961098]\n",
      " [ 1.33104142  0.24466952]\n",
      " [ 1.55739627  0.26739258]\n",
      " [ 0.81245555 -0.16233157]\n",
      " [-0.30733476 -0.36508661]\n",
      " [-0.07034289 -0.70253793]\n",
      " [-0.19188449 -0.67749054]\n",
      " [ 0.13499495 -0.31170964]\n",
      " [ 1.37873698 -0.42120514]\n",
      " [ 0.58727485 -0.48328427]\n",
      " [ 0.8072055   0.19505396]\n",
      " [ 1.22042897  0.40803534]\n",
      " [ 0.81286779 -0.370679  ]\n",
      " [ 0.24519516 -0.26672804]\n",
      " [ 0.16451343 -0.67966147]\n",
      " [ 0.46303099 -0.66952655]\n",
      " [ 0.89016045 -0.03381244]\n",
      " [ 0.22887905 -0.40225762]\n",
      " [-0.70708128 -1.00842476]\n",
      " [ 0.35553304 -0.50321849]\n",
      " [ 0.33112695 -0.21118014]\n",
      " [ 0.37523823 -0.29162202]\n",
      " [ 0.64169028  0.01907118]\n",
      " [-0.90846333 -0.75156873]\n",
      " [ 0.29780791 -0.34701652]\n",
      " [ 2.53172698 -0.01184224]\n",
      " [ 1.41407223 -0.57492506]\n",
      " [ 2.61648461  0.34193529]\n",
      " [ 1.97081495 -0.18112569]\n",
      " [ 2.34975798 -0.04188255]\n",
      " [ 3.39687992  0.54716805]\n",
      " [ 0.51938325 -1.19135169]\n",
      " [ 2.9320051   0.35237701]\n",
      " [ 2.31967279 -0.24554817]\n",
      " [ 2.91813423  0.78038063]\n",
      " [ 1.66193495  0.2420384 ]\n",
      " [ 1.80234045 -0.21615461]\n",
      " [ 2.16537886  0.21528028]\n",
      " [ 1.34459422 -0.77641543]\n",
      " [ 1.5852673  -0.53930705]\n",
      " [ 1.90474358  0.11881899]\n",
      " [ 1.94924878  0.04073026]\n",
      " [ 3.48876538  1.17154454]\n",
      " [ 3.79468686  0.25326557]\n",
      " [ 1.29832982 -0.76101394]\n",
      " [ 2.42816726  0.37678197]\n",
      " [ 1.19809737 -0.60557896]\n",
      " [ 3.49926548  0.45677347]\n",
      " [ 1.38766825 -0.20403099]\n",
      " [ 2.27585365  0.33338653]\n",
      " [ 2.61419383  0.55836695]\n",
      " [ 1.25762518 -0.179137  ]\n",
      " [ 1.29066965 -0.11642525]\n",
      " [ 2.12285398 -0.21085488]\n",
      " [ 2.3875644   0.46251925]\n",
      " [ 2.84096093  0.37274259]\n",
      " [ 3.2323429   1.37052404]\n",
      " [ 2.15873837 -0.21832553]\n",
      " [ 1.4431026  -0.14380129]\n",
      " [ 1.77964011 -0.50146479]\n",
      " [ 3.07652162  0.68576444]\n",
      " [ 2.14498686  0.13890661]\n",
      " [ 1.90486293  0.04804751]\n",
      " [ 1.16885347 -0.1645025 ]\n",
      " [ 2.10765373  0.37148225]\n",
      " [ 2.31430339  0.18260885]\n",
      " [ 1.92245088  0.40927118]\n",
      " [ 1.41407223 -0.57492506]\n",
      " [ 2.56332271  0.2759745 ]\n",
      " [ 2.41939122  0.30350394]\n",
      " [ 1.94401705  0.18741522]\n",
      " [ 1.52566363 -0.37502085]\n",
      " [ 1.76404594  0.07851919]\n",
      " [ 1.90162908  0.11587675]\n",
      " [ 1.38966613 -0.28288671]]\n"
     ]
    }
   ],
   "source": [
    "#Dimensions reduced from 4 to 2\n",
    "print(features_train)"
   ]
  },
  {
   "cell_type": "code",
   "execution_count": 19,
   "metadata": {},
   "outputs": [
    {
     "data": {
      "image/png": "[encoded data removed]",
      "text/plain": [
       "<Figure size 432x288 with 1 Axes>"
      ]
     },
     "metadata": {
      "needs_background": "light"
     },
     "output_type": "display_data"
    }
   ],
   "source": [
    "#Using the elbow method to find the optimal number of Clusters\n",
    "from sklearn.cluster import KMeans\n",
    "wcss= []\n",
    "for i in range(1,11):\n",
    "    kmeans= KMeans(n_clusters = i, init= 'k-means++', random_state=0)\n",
    "    kmeans.fit(features_train)\n",
    "    wcss.append(kmeans.inertia_)\n",
    "plt.plot(range(1,11), wcss)\n",
    "plt.title('the elbow method')\n",
    "plt.xlabel('Number of Clusters')\n",
    "plt.ylabel('WCSS')\n",
    "plt.show()"
   ]
  },
  {
   "cell_type": "code",
   "execution_count": 20,
   "metadata": {},
   "outputs": [],
   "source": [
    "#Fittings the KMenas to the dataset\n",
    "kmeans= KMeans(n_clusters = 3, init= 'k-means++', random_state=0)\n",
    "y_kmeans= kmeans.fit_predict(features_train)"
   ]
  },
  {
   "cell_type": "code",
   "execution_count": 26,
   "metadata": {},
   "outputs": [
    {
     "data": {
      "image/png": "[encoded data removed]",
      "text/plain": [
       "<Figure size 432x288 with 1 Axes>"
      ]
     },
     "metadata": {
      "needs_background": "light"
     },
     "output_type": "display_data"
    }
   ],
   "source": [
    "#Visualizing the Clusters\n",
    "plt.scatter(features[y_kmeans == 0,0], features[y_kmeans == 0,1], s=40, c= 'red', label= 'Cluster1')\n",
    "plt.scatter(features[y_kmeans == 1,0], features[y_kmeans == 1,1], s=40, c= 'blue', label= 'Cluster2')\n",
    "plt.scatter(features[y_kmeans == 2,0], features[y_kmeans == 2,1], s=40, c= 'green', label= 'Cluster3')\n",
    "\n",
    "plt.scatter(kmeans.cluster_centers_[:,0], kmeans.cluster_centers_[:,1], s=100, c= 'black', label= 'Centroids')\n",
    "plt.title(\"Cluster\")\n",
    "plt.xlabel(\"Saple length\")\n",
    "plt.ylabel(\"Saple width\")\n",
    "plt.legend()\n",
    "plt.show()"
   ]
  },
  {
   "cell_type": "code",
   "execution_count": null,
   "metadata": {},
   "outputs": [],
   "source": []
  }
 ],
 "metadata": {
  "kernelspec": {
   "display_name": "Python 3",
   "language": "python",
   "name": "python3"
  },
  "language_info": {
   "codemirror_mode": {
    "name": "ipython",
    "version": 3
   },
   "file_extension": ".py",
   "mimetype": "text/x-python",
   "name": "python",
   "nbconvert_exporter": "python",
   "pygments_lexer": "ipython3",
   "version": "3.7.0"
  }
 },
 "nbformat": 4,
 "nbformat_minor": 2
}
